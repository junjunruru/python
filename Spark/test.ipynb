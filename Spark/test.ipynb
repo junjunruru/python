{
 "cells": [
  {
   "cell_type": "code",
   "execution_count": 1,
   "metadata": {},
   "outputs": [],
   "source": [
    "from pyspark.sql import SparkSession\n",
    "from pyspark.sql.functions import desc\n",
    "import pandas as pd\n",
    "spark = SparkSession.builder.appName(\"test\").getOrCreate()\n",
    "df = spark.read.csv('A_lvr_land_A.csv', header=True, inferSchema=True)\n",
    "df = df.union(spark.read.csv('B_lvr_land_A.csv', header=True, inferSchema=True)) \n",
    "df = df.union(spark.read.csv('E_lvr_land_A.csv', header=True, inferSchema=True))\n",
    "df = df.union(spark.read.csv('F_lvr_land_A.csv', header=True, inferSchema=True))\n",
    "df = df.union(spark.read.csv('H_lvr_land_A.csv', header=True, inferSchema=True))\n",
    "#篩選資料\n",
    "df = df.filter(df['主要用途'].contains('住家用')).filter(df['建物型態'].contains('住宅大樓')).filter(~df['總樓層數'].isin(['一層','二層','三層','四層','五層','六層','七層','八層','九層','十層','十一層','十二層']))\n",
    "df = df.sort(desc('交易年月日'))"
   ]
  },
  {
   "cell_type": "code",
   "execution_count": null,
   "metadata": {},
   "outputs": [],
   "source": [
    "row = df.collect()\n",
    "city = {'臺北市':'{city:\"臺北市\",\"time_slots\": [','新北市':'{city:\"新北市\",\"time_slots\": [','桃園市':'{city:\"桃園市\",\"time_slots\": [','臺中市':'{city:\"臺中市\",\"time_slots\": [','高雄市':'{city:\"高雄市\",\"time_slots\": ['}\n",
    "def chinese_to_date(x): # 將民國轉換成西元\n",
    "    return str(int(x)+19110000)[0:4]+'-' + str(int(x)+19110000)[4:6] + '-' + str(int(x)+19110000)[6:8]\n",
    "for i in range(len(row)):\n",
    "    if row[i]['土地位置建物門牌'][0:3] in city :\n",
    "        city[row[i]['土地位置建物門牌'][0:3]] = city[row[i]['土地位置建物門牌'][0:3]] + '{\"data\":\"'+str(chinese_to_date(row[i]['交易年月日']))+'\",\"events\":[{\"type\":\"'+row[i]['建物型態']+'\",\"district\":\"'+row[i]['鄉鎮市區']+'\"}]},'\n",
    "for i in city:\n",
    "    city[i] = city[i][:-1] + ']}'"
   ]
  },
  {
   "cell_type": "code",
   "execution_count": 2,
   "metadata": {},
   "outputs": [
    {
     "data": {
      "text/html": [
       "\n",
       "            <div>\n",
       "                <p><b>SparkSession - in-memory</b></p>\n",
       "                \n",
       "        <div>\n",
       "            <p><b>SparkContext</b></p>\n",
       "\n",
       "            <p><a href=\"http://junjun:4041\">Spark UI</a></p>\n",
       "\n",
       "            <dl>\n",
       "              <dt>Version</dt>\n",
       "                <dd><code>v3.3.0</code></dd>\n",
       "              <dt>Master</dt>\n",
       "                <dd><code>local[*]</code></dd>\n",
       "              <dt>AppName</dt>\n",
       "                <dd><code>test</code></dd>\n",
       "            </dl>\n",
       "        </div>\n",
       "        \n",
       "            </div>\n",
       "        "
      ],
      "text/plain": [
       "<pyspark.sql.session.SparkSession at 0x1f9d02cdd20>"
      ]
     },
     "execution_count": 2,
     "metadata": {},
     "output_type": "execute_result"
    }
   ],
   "source": [
    "spark"
   ]
  },
  {
   "cell_type": "code",
   "execution_count": null,
   "metadata": {},
   "outputs": [],
   "source": [
    "print(city['臺北市'])\n",
    "# print(city['新北市'])\n",
    "# print(city['桃園市'])\n",
    "# print(city['臺中市'])\n",
    "# print(city['高雄市'])"
   ]
  },
  {
   "cell_type": "code",
   "execution_count": 67,
   "metadata": {},
   "outputs": [],
   "source": [
    "#將字串隨機寫進檔案 result-part1.json , result-part2.json\n",
    "import random\n",
    "json_data = ['result-part1.json' , 'result-part2.json']\n",
    "# random.choice(json_data)\n",
    "for i in city:\n",
    "    with open(random.choice(json_data), 'a',encoding='utf-8') as f:\n",
    "        f.write(city[i])\n",
    "        f.write('\\n')"
   ]
  }
 ],
 "metadata": {
  "kernelspec": {
   "display_name": "Python 3.10.4 64-bit",
   "language": "python",
   "name": "python3"
  },
  "language_info": {
   "codemirror_mode": {
    "name": "ipython",
    "version": 3
   },
   "file_extension": ".py",
   "mimetype": "text/x-python",
   "name": "python",
   "nbconvert_exporter": "python",
   "pygments_lexer": "ipython3",
   "version": "3.10.4"
  },
  "orig_nbformat": 4,
  "vscode": {
   "interpreter": {
    "hash": "2f0f88ff8c0992e7d083cc5dfa7ae3313e87e260c1333903d659a51b66df46e7"
   }
  }
 },
 "nbformat": 4,
 "nbformat_minor": 2
}
