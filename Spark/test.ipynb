{
 "cells": [
  {
   "cell_type": "code",
   "execution_count": null,
   "metadata": {},
   "outputs": [],
   "source": [
    "df = spark.read.csv('A_lvr_land_A.csv', header=True, inferSchema=True)\n",
    "df = df.union(spark.read.csv('B_lvr_land_A.csv', header=True, inferSchema=True)) \n",
    "df = df.union(spark.read.csv('E_lvr_land_A.csv', header=True, inferSchema=True))\n",
    "df = df.union(spark.read.csv('F_lvr_land_A.csv', header=True, inferSchema=True))\n",
    "df = df.union(spark.read.csv('H_lvr_land_A.csv', header=True, inferSchema=True))\n",
    "#篩選資料\n",
    "df = df.filter(df['主要用途'].contains('住家用')).filter(df['建物型態'].contains('住宅大樓')).filter(~df['總樓層數'].isin(['一層','二層','三層','四層','五層','六層','七層','八層','九層','十層','十一層','十二層']))\n",
    "df = df.sort(desc('交易年月日'))"
   ]
  },
  {
   "cell_type": "code",
   "execution_count": null,
   "metadata": {},
   "outputs": [],
   "source": [
    "from pyspark.sql import SparkSession\n",
    "from pyspark.sql.functions import desc\n",
    "import pandas as pd\n",
    "spark = SparkSession.builder.appName(\"test\").getOrCreate()"
   ]
  },
  {
   "cell_type": "code",
   "execution_count": 6,
   "metadata": {},
   "outputs": [
    {
     "name": "stdout",
     "output_type": "stream",
     "text": [
      "7372\n"
     ]
    }
   ],
   "source": [
    "print(df.count())"
   ]
  }
 ],
 "metadata": {
  "kernelspec": {
   "display_name": "Python 3.10.4 64-bit",
   "language": "python",
   "name": "python3"
  },
  "language_info": {
   "codemirror_mode": {
    "name": "ipython",
    "version": 3
   },
   "file_extension": ".py",
   "mimetype": "text/x-python",
   "name": "python",
   "nbconvert_exporter": "python",
   "pygments_lexer": "ipython3",
   "version": "3.10.4"
  },
  "orig_nbformat": 4,
  "vscode": {
   "interpreter": {
    "hash": "2f0f88ff8c0992e7d083cc5dfa7ae3313e87e260c1333903d659a51b66df46e7"
   }
  }
 },
 "nbformat": 4,
 "nbformat_minor": 2
}
